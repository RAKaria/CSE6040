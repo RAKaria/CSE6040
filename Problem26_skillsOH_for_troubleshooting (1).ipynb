{
 "cells": [
  {
   "cell_type": "markdown",
   "id": "deb6c1a8",
   "metadata": {},
   "source": [
    "### We are going to demonstrate 3 instances of troubleshooting that you might face on the Midterm.\n",
    "\n",
    "#### Exercise 1:  We will return an incorrect data type (basic)\n",
    "\n",
    "#### Exercise 2:  We will return an incorrect data type (value inside a dict)\n",
    "\n",
    "#### Exercise 3:  We will return the wrong answer (correct data types, incorrect data itself)"
   ]
  },
  {
   "cell_type": "markdown",
   "id": "9d1d42fa",
   "metadata": {
    "nbgrader": {
     "grade": false,
     "locked": true,
     "solution": false
    }
   },
   "source": [
    "# Midterm 1, Spring 2022: USDA Food Labels\n",
    "_Version 1.2_\n",
    "\n",
    "Changes:\n",
    "\n",
    "- 1.1 - Clarified instructions for exercise 6\n",
    "- 1.2 - Corrected typos in exercise 2 and exercise 4\n",
    "\n",
    "This problem builds on your knowledge of nested data structures, string processing, and implementation of mathematical functions. It has 7 exercises, numbered 0 to 6. There are 14 available points. However, to earn 100% the threshold is 11 points. (Therefore, once you hit 11 points, you can stop. There is no extra credit for exceeding this threshold.)\n",
    "\n",
    "Each exercise builds logically on previous exercises, but you may solve them in any order. That is, if you can't solve an exercise, you can still move on and try the next one. Use this to your advantage, as the exercises are **not** necessarily ordered in terms of difficulty. Higher point values generally indicate more difficult exercises. \n",
    "\n",
    "Code cells starting with the comment `### Loading results` load the result of applying the **correct** solution as described in the markdown cell above it. These can be used to follow along with the overall analysis, but they are not required to be run to move on. Most of these cells are loading rather large data structures (at least in terms of what's human-readable). As such, the data is only loaded - not printed. You are free to use Python to explore it further.\n",
    "\n",
    "The point values of individual exercises are as follows:\n",
    "\n",
    "- Exercise 0: 1 point (This one is a freebie!)\n",
    "- Exercise 1: 1 point  \n",
    "- Exercise 2: 4 points  \n",
    "- Exercise 3: 1 point  \n",
    "- Exercise 4: 2 points  \n",
    "- Exercise 5: 3 points\n",
    "- Exercise 6: 2 points"
   ]
  },
  {
   "cell_type": "markdown",
   "id": "5f0d3afb",
   "metadata": {
    "nbgrader": {
     "grade": false,
     "locked": true,
     "solution": false
    }
   },
   "source": [
    "We will be working with some data about food. The foods you see in the grocery store are required to have nutrition labels, which provide information to consumers about which nutrients are present in a food, the amounts present, and the ingredients in that food (listed in order of content). The USDA maintains all of this information and makes it available to the public on their [website](https://fdc.nal.usda.gov/download-datasets.html) - we are using the \"Global Branded Foods\" data from October 2021 in this notebook. \n",
    "\n",
    "The file linked on the website may change (hopefully this link will work in the future) - [https://fdc.nal.usda.gov/fdc-datasets/FoodData_Central_branded_food_json_2021-10-28.zip](https://fdc.nal.usda.gov/fdc-datasets/FoodData_Central_branded_food_json_2021-10-28.zip). \n",
    "\n",
    "**Note** to keep the runtimes shorter, we are working with a _sample_ of the source data. This will not affect any of the functionality we will be developing in this notebook."
   ]
  },
  {
   "cell_type": "markdown",
   "id": "e0d51bb0",
   "metadata": {
    "nbgrader": {
     "grade": false,
     "locked": true,
     "solution": false
    }
   },
   "source": [
    "## Exercise 0 (1 Points):"
   ]
  },
  {
   "cell_type": "markdown",
   "id": "09c521c7",
   "metadata": {
    "nbgrader": {
     "grade": false,
     "locked": true,
     "solution": false
    }
   },
   "source": [
    "After downloading and unzipping the file, you will find the data stored in a **JSON** format. You may or may not have seen this type of data format before, so we will take care of reading the data into our Python environment. The result of the code below is that `food_lod` will load the serialized contents of the json file into Python objects - in this case, a `list` of `dict`s.\n",
    "\n",
    "Run the test cell below to load the data. We are treating this as a \"test\" cell, so you will get one point for just submitting. How generous!"
   ]
  },
  {
   "cell_type": "code",
   "execution_count": 1,
   "id": "d5f7b2bb",
   "metadata": {
    "nbgrader": {
     "grade": true,
     "grade_id": "ex0_test",
     "locked": true,
     "points": "1",
     "solution": false
    }
   },
   "outputs": [],
   "source": [
    "### BEGIN HIDDEN TESTS\n",
    "# if False:\n",
    "#     import dill\n",
    "#     import hashlib\n",
    "#     def hash_check(f1, f2, verbose=True):\n",
    "#         with open(f1, 'rb') as f:\n",
    "#             h1 = hashlib.md5(f.read()).hexdigest()\n",
    "#         with open(f2, 'rb') as f:\n",
    "#             h2 = hashlib.md5(f.read()).hexdigest()\n",
    "#         if verbose:\n",
    "#             print(h1)\n",
    "#             print(h2)\n",
    "#         assert h1 == h2, f'The file \"{f1}\" has been modified'\n",
    "#     with open('resource/asnlib/public/hash_check.pkl', 'wb') as f:\n",
    "#         dill.dump(hash_check, f)\n",
    "#     del hash_check\n",
    "#     with open('resource/asnlib/public/hash_check.pkl', 'rb') as f:\n",
    "#         hash_check = dill.load(f)\n",
    "#     for fname in ['testers.py', 'tester_6040.py', 'test_utils.py']:\n",
    "#         hash_check(f'tester_fw/{fname}', f'resource/asnlib/public/{fname}')\n",
    "#     del hash_check\n",
    "### END HIDDEN TESTS\n",
    "\n",
    "import json                                          # import the json module\n",
    "path = './resource/asnlib/publicdata/food_data.json' # path to the data file\n",
    "with open(path, 'r') as file:                        # open the path and keep the file object as a context\n",
    "    food_lod = json.load(file)                       # load the file into a variable in our Python environment"
   ]
  },
  {
   "cell_type": "markdown",
   "id": "233430e1",
   "metadata": {
    "nbgrader": {
     "grade": false,
     "locked": true,
     "solution": false
    }
   },
   "source": [
    "## Exploring the data\n",
    "\n",
    "Let's start by taking a look at some of the basic attributes about this data."
   ]
  },
  {
   "cell_type": "code",
   "execution_count": 2,
   "id": "4eb76a98",
   "metadata": {},
   "outputs": [
    {
     "data": {
      "text/plain": [
       "{'type': list, 'length': 30000, 'value_types': {dict}}"
      ]
     },
     "execution_count": 2,
     "metadata": {},
     "output_type": "execute_result"
    }
   ],
   "source": [
    "{\n",
    "    'type': type(food_lod),\n",
    "    'length': len(food_lod),\n",
    "    'value_types': {type(v) for v in food_lod}\n",
    "}"
   ]
  },
  {
   "cell_type": "markdown",
   "id": "c323a460",
   "metadata": {},
   "source": [
    "Well... `food_lod` is a `list`, with 30,000 entries, and each of those are of type `dict`. Let's take a look at some of the keys in one of the `dicts`."
   ]
  },
  {
   "cell_type": "code",
   "execution_count": 3,
   "id": "3a336130",
   "metadata": {
    "nbgrader": {
     "grade": false,
     "locked": true,
     "solution": false
    }
   },
   "outputs": [
    {
     "data": {
      "text/plain": [
       "dict_keys(['foodClass', 'description', 'foodNutrients', 'foodAttributes', 'modifiedDate', 'availableDate', 'marketCountry', 'brandOwner', 'brandName', 'gtinUpc', 'dataSource', 'ingredients', 'servingSize', 'servingSizeUnit', 'labelNutrients', 'packageWeight', 'brandedFoodCategory', 'fdcId', 'dataType', 'foodUpdateLog', 'publicationDate'])"
      ]
     },
     "execution_count": 3,
     "metadata": {},
     "output_type": "execute_result"
    }
   ],
   "source": [
    "food_lod[0].keys()"
   ]
  },
  {
   "cell_type": "markdown",
   "id": "c972bb5c",
   "metadata": {
    "nbgrader": {
     "grade": false,
     "locked": true,
     "solution": false
    }
   },
   "source": [
    "## Exercise 1 (1 Points): \n",
    "\n",
    "These look like some promising candidates for extracting information about individual foods. There appear to be some \"category\" related keys, which may be useful for grouping foods and comparing between groups as well. For further analysis, we want to know if the `dict`s are all of similar structure to the first one. A good start to analyzing this is determining which keys are common to all of them..."
   ]
  },
  {
   "cell_type": "markdown",
   "id": "c7d33c64",
   "metadata": {
    "nbgrader": {
     "grade": false,
     "locked": true,
     "solution": false
    },
    "tags": [
     "exercise_text_ex1"
    ]
   },
   "source": [
    "Given an input `lod`, which is a `list` of `dict`s complete the function `common_keys(lod)` to return a Python `set` of the keys which are common to all of the `dicts` in `lod`. "
   ]
  },
  {
   "cell_type": "code",
   "execution_count": 4,
   "id": "7a2f0a9d",
   "metadata": {
    "tags": [
     "exercise_solution_ex1"
    ]
   },
   "outputs": [],
   "source": [
    "### Define common_keys\n",
    "def common_keys(lod):\n",
    "    ### BEGIN SOLUTION\n",
    "    my_keys = set(lod[0].keys())\n",
    "    for d in lod:\n",
    "        my_keys &= set(d.keys())\n",
    "    return my_keys  #correct\n",
    "#     return list(my_keys)  #returning the wrong data type\n",
    "### END SOLUTION"
   ]
  },
  {
   "cell_type": "markdown",
   "id": "a9f2445b",
   "metadata": {
    "nbgrader": {
     "grade": false,
     "locked": true,
     "solution": false
    },
    "tags": [
     "demo_output_md_ex1"
    ]
   },
   "source": [
    "<!-- Expected demo output text block -->\n",
    "The demo cell below should display the following output:\n",
    "```\n",
    "{'bar', 'qux'}\n",
    "```"
   ]
  },
  {
   "cell_type": "code",
   "execution_count": 5,
   "id": "9c3191b9",
   "metadata": {
    "nbgrader": {
     "grade": false,
     "locked": true,
     "solution": false
    },
    "tags": [
     "demo_inputs_ex1"
    ]
   },
   "outputs": [],
   "source": [
    "### define demo inputs\n",
    "demo_key_list_ex0 = ['foo', 'bar', 'baz', 'qux', 'tav', 'wot']\n",
    "demo_lod_ex0 = [\n",
    "    {k: 1 for k in demo_key_list_ex0[1:]},\n",
    "    {k: 1 for k in demo_key_list_ex0[:-1]},\n",
    "    {k: 1 for k in demo_key_list_ex0[1::2]}\n",
    "]\n"
   ]
  },
  {
   "cell_type": "code",
   "execution_count": 6,
   "id": "7f2f7d94",
   "metadata": {
    "nbgrader": {
     "grade": false,
     "locked": true,
     "solution": false
    },
    "tags": [
     "demo_run_ex1"
    ]
   },
   "outputs": [
    {
     "data": {
      "text/plain": [
       "{'bar', 'qux'}"
      ]
     },
     "execution_count": 6,
     "metadata": {},
     "output_type": "execute_result"
    }
   ],
   "source": [
    "### call demo funtion\n",
    "common_keys(demo_lod_ex0)"
   ]
  },
  {
   "cell_type": "markdown",
   "id": "dae755a4",
   "metadata": {
    "nbgrader": {
     "grade": false,
     "locked": true,
     "solution": false
    }
   },
   "source": [
    "<!-- Test Cell Boilerplate -->\n",
    "The cell below will test your solution for Exercise 1. The testing variables will be available for debugging under the following names in a dictionary format.\n",
    "- `input_vars` - Input variables for your solution. \n",
    "- `original_input_vars` - Copy of input variables from prior to running your solution. These _should_ be the same as `input_vars` - otherwise the inputs were modified by your solution.\n",
    "- `returned_output_vars` - Outputs returned by your solution.\n",
    "- `true_output_vars` - The expected output. This _should_ \"match\" `returned_output_vars` based on the question requirements - otherwise, your solution is not returning the correct output. "
   ]
  },
  {
   "cell_type": "code",
   "execution_count": 7,
   "id": "91f18362",
   "metadata": {
    "nbgrader": {
     "grade": true,
     "grade_id": "ex1_test",
     "locked": true,
     "points": "1",
     "solution": false
    }
   },
   "outputs": [
    {
     "name": "stdout",
     "output_type": "stream",
     "text": [
      "initializing tester_fw.tester_6040\n",
      "initializing tester_fw.tester_6040\n",
      "Passed! Please submit.\n"
     ]
    }
   ],
   "source": [
    "### test_cell_ex1\n",
    "\n",
    "### BEGIN HIDDEN TESTS\n",
    "# import dill\n",
    "# import hashlib\n",
    "# with open('resource/asnlib/public/hash_check.pkl', 'rb') as f:\n",
    "#     hash_check = dill.load(f)\n",
    "# # for fname in ['testers.py', 'tester_6040.py', 'test_utils.py']:\n",
    "# #     hash_check(f'tester_fw/{fname}', f'resource/asnlib/public/{fname}')\n",
    "# del hash_check\n",
    "# del dill\n",
    "# del hashlib\n",
    "### END HIDDEN TESTS\n",
    "\n",
    "from tester_fw.testers import Tester_ex1\n",
    "tester = Tester_ex1()\n",
    "for _ in range(20):\n",
    "    try:\n",
    "        tester.run_test(common_keys)\n",
    "        (input_vars, original_input_vars, returned_output_vars, true_output_vars) = tester.get_test_vars()\n",
    "    except:\n",
    "        (input_vars, original_input_vars, returned_output_vars, true_output_vars) = tester.get_test_vars()\n",
    "        raise\n",
    "\n",
    "### BEGIN HIDDEN TESTS\n",
    "tester = Tester_ex1(key=b'4gbCuwhFj77ZLr-nS9-6_7OKthpg6HpqGWs1vnuKkgk=', path='resource/asnlib/publicdata/encrypted/')\n",
    "for _ in range(20):\n",
    "    try:\n",
    "        tester.run_test(common_keys)\n",
    "        (input_vars, original_input_vars, returned_output_vars, true_output_vars) = tester.get_test_vars()\n",
    "    except:\n",
    "        (input_vars, original_input_vars, returned_output_vars, true_output_vars) = tester.get_test_vars()\n",
    "        raise\n",
    "### END HIDDEN TESTS\n",
    "print('Passed! Please submit.')"
   ]
  },
  {
   "cell_type": "code",
   "execution_count": 8,
   "id": "bedd688d",
   "metadata": {},
   "outputs": [],
   "source": [
    "# # This is a template that you can use all the time!!\n",
    "# # Create a cell below every exam test cell and copy the below code into it\n",
    "# # ONLY UNCOMMENT IF YOU NEED IT!!!!\n",
    "# # BEWARE THAT THIS COULD GENERATE VOLUMINOUS OUTPUT!!!!!\n",
    "# print('input_vars')\n",
    "# print(input_vars)\n",
    "# print('original_input_vars')\n",
    "# print(original_input_vars)\n",
    "# print('returned_output_vars')\n",
    "# print(returned_output_vars)\n",
    "# print('true_output_vars')\n",
    "# print(true_output_vars)"
   ]
  },
  {
   "cell_type": "markdown",
   "id": "032d2b6b",
   "metadata": {
    "nbgrader": {
     "grade": false,
     "locked": true,
     "solution": false
    }
   },
   "source": [
    "Even if your solution was incorrect or you skipped this exercise, run this cell to see the expected output of a call to `common_keys(food_lod)`."
   ]
  },
  {
   "cell_type": "code",
   "execution_count": 9,
   "id": "7ff2fa4d",
   "metadata": {
    "nbgrader": {
     "grade": false,
     "locked": true,
     "solution": false
    }
   },
   "outputs": [],
   "source": [
    "### Loading results\n",
    "import pickle\n",
    "import os\n",
    "path = './resource/asnlib/publicdata/ex1.pkl'\n",
    "if not os.path.exists(path):\n",
    "    with open(path, 'wb') as file:\n",
    "        pickle.dump(common_keys(food_lod), file)\n",
    "with open(path, 'rb') as file:\n",
    "    food_keys = pickle.load(file)"
   ]
  },
  {
   "cell_type": "markdown",
   "id": "bd2883d1",
   "metadata": {
    "nbgrader": {
     "grade": false,
     "locked": true,
     "solution": false
    }
   },
   "source": [
    "## Exercise 2 (4 Points): \n",
    "For our analysis, we are interested in the nutritional content and ingredients contained in each food. Additionally we would like to group foods by the categories given. The keys of interest are 'description', 'ingredients', 'labelNutrients', and 'brandedFoodCategory'."
   ]
  },
  {
   "cell_type": "code",
   "execution_count": 10,
   "id": "fd197283",
   "metadata": {
    "nbgrader": {
     "grade": false,
     "locked": true,
     "solution": false
    }
   },
   "outputs": [
    {
     "data": {
      "text/plain": [
       "{'description': 'KETTLE COOKED POTATO CHIPS, PINK HIMALAYAN SALT & RED WINE VINEGAR',\n",
       " 'ingredients': 'POTATOES, VEGETABLE OIL (CONTAINS ONE OR MORE OF THE FOLLOWING: CANOLA OIL, SAFFLOWER OIL AND/OR SUNFLOWER OIL), MALTODEXTRIN, HIMALAYAN SALT, RED WINE VINEGAR, CITRIC ACID, SUGAR, WHITE DISTILLED VINEGAR, NATURAL FLAVOR.',\n",
       " 'labelNutrients': {'fat': {'value': 7.0},\n",
       "  'saturatedFat': {'value': 0.501},\n",
       "  'transFat': {'value': 0.0},\n",
       "  'cholesterol': {'value': 0.0},\n",
       "  'sodium': {'value': 140},\n",
       "  'carbohydrates': {'value': 17.0},\n",
       "  'fiber': {'value': 1.01},\n",
       "  'sugars': {'value': 0.0},\n",
       "  'protein': {'value': 2.0},\n",
       "  'calcium': {'value': 0.0},\n",
       "  'iron': {'value': 0.4},\n",
       "  'potassium': {'value': 319},\n",
       "  'addedSugar': {'value': 0.0},\n",
       "  'calories': {'value': 140}},\n",
       " 'brandedFoodCategory': 'Chips, Pretzels & Snacks'}"
      ]
     },
     "execution_count": 10,
     "metadata": {},
     "output_type": "execute_result"
    }
   ],
   "source": [
    "keys_of_interest = {'description', 'ingredients', 'labelNutrients', 'brandedFoodCategory'}\n",
    "{k:v for k, v in food_lod[0].items() if k in keys_of_interest}"
   ]
  },
  {
   "cell_type": "markdown",
   "id": "0e3c5604",
   "metadata": {
    "nbgrader": {
     "grade": false,
     "locked": true,
     "solution": false
    },
    "tags": [
     "exercise_text_ex2"
    ]
   },
   "source": [
    "<!-- Exercise text block -->\n",
    "Define `extract_basic_data` to meet the following requirements.\n",
    "Given a `list` of `dict`s, `lod`, create a **new** `list` of `dict`s called `basic_data`. For each `dict` in `lod`, there should be a corresponding `dict` in `basic_data` with the following key/value pairs:\n",
    "- `'description'` - `str` associated with `'description'` in the `lod` `dict`.\n",
    "- `'list_of_ingredients'` - `list` of all the ingredients associated with `'ingredients'` in the `lod` `dict`. *See \"Notes on ingredients\" below*.\n",
    "- `'raw_nutrients'` - `dict` mapping the nutrient name (`str`) to it's amount (`float`). *See \"Notes on nutrients\" below*.\n",
    "- `'category'` - `str` associated with `'brandedFoodCategory'` in the `lod` `dict`.\n",
    "\n",
    "**Notes on ingredients**\n",
    "- For each `dict`, `d` in `lod` the **ingredients** are stored as a `str` associated with the `'ingredients'` key.  \n",
    "- Sometimes there is extra information wrapped in parentheses. We do not want to include this information in our analysis, so any text wrapped in `()` (and the parentheses themselves) should be left out of further processing. There may be **multiple** sets of parentheses in an `ingredients` string.\n",
    "  - You can assume that there are not **nested** parentheses. For example strings of this form **will not** occur - `'item, item1 (level 1 (another, level)), item2.'`\n",
    "  - The `re` module may be helpful here.\n",
    "  - Note that there can be _anything_ in between the parentheses and all of that text should be discarded. For example `'ingredient 1, ingredient 2 (ingredient 2.1, ingredient 2.2, [ingredient 2.2.1, ingredient 2.2.2]), ingredient 3.'` should result in just `['ingredient 1', 'ingredient 2', 'ingredient 3']` as it's associated `'list_of_ingredients'`.\n",
    "- The ingredient string ends in `'.'`, which should also be left out of further processing.  \n",
    "- The individual ingredients are separated by `', '`.\n",
    "- The ingredients in `basic_data[i]['list_of_ingredients']` should not have any leading or trailing whitespace.\n",
    "\n",
    "**Notes on nutrients**\n",
    "- For each `dict`, `d`, in `lod`, the nutrients are associated with the `'labelNutrients'` key.\n",
    "- `d['labelNutrients']` is a dictionary of the form `{'protein': {'value': 10}, 'riboflavin': {'value': 2}}`, i.e. mapping the nutrient name to a dictionary with one key (`'value'`) which is mapped to the amount of that nutrient present in a particular food."
   ]
  },
  {
   "cell_type": "code",
   "execution_count": 11,
   "id": "35d43944",
   "metadata": {
    "nbgrader": {
     "grade": false,
     "locked": false,
     "solution": false
    },
    "tags": [
     "exercise_solution_ex2"
    ]
   },
   "outputs": [],
   "source": [
    "### Define extract_basic_data\n",
    "def extract_basic_data(lod):\n",
    "    ### BEGIN SOLUTION\n",
    "    return [extract_record_data(record) for record in lod]\n",
    "def extract_record_data(record):\n",
    "    ### Convert ingredients from `str` to `list`\n",
    "    import re\n",
    "    pattern = re.compile(r'\\(.*?\\)|\\.') # matches \"anything\" wrapped in parenthesis or the '.' character\n",
    "    clean_str = re.sub(pattern, '', record['ingredients'])\n",
    "\n",
    "    #this is correct, a list of strings\n",
    "    loi = [s.strip() for s in clean_str.split(', ')]\n",
    "#     print(type(loi))\n",
    "#     print(loi)\n",
    "\n",
    "#     **************************\n",
    "#     # this is incorrect, makes it a list of list of strings\n",
    "#     loi = [[s.strip() for s in clean_str.split(', ')]]\n",
    "#     print(type(loi))\n",
    "#     print(loi)\n",
    "#     **************************\n",
    "    \n",
    "    ### Convert nutrients into proper form\n",
    "    nut_dict = {k: float(v['value']) for k, v in record['labelNutrients'].items()}\n",
    "    ### Build and return result\n",
    "    return {\n",
    "        'description': record['description']\n",
    "        ,'list_of_ingredients': loi\n",
    "        ,'raw_nutrients': nut_dict\n",
    "        ,'category': record['brandedFoodCategory']\n",
    "    }\n",
    "    ### END SOLUTION"
   ]
  },
  {
   "cell_type": "markdown",
   "id": "b377b96d",
   "metadata": {
    "nbgrader": {
     "grade": false,
     "locked": true,
     "solution": false
    },
    "tags": [
     "demo_output_md_ex2"
    ]
   },
   "source": [
    "<!-- Expected demo output text block -->\n",
    "The demo cell below should display the following output:\n",
    "```\n",
    "[{'description': 'KETTLE COOKED POTATO CHIPS, PINK HIMALAYAN SALT & RED WINE VINEGAR',\n",
    "  'list_of_ingredients': ['POTATOES',\n",
    "   'VEGETABLE OIL',\n",
    "   'MALTODEXTRIN',\n",
    "   'HIMALAYAN SALT',\n",
    "   'RED WINE VINEGAR',\n",
    "   'CITRIC ACID',\n",
    "   'SUGAR',\n",
    "   'WHITE DISTILLED VINEGAR',\n",
    "   'NATURAL FLAVOR'],\n",
    "  'raw_nutrients': {'fat': 7.0,\n",
    "   'saturatedFat': 0.501,\n",
    "   'transFat': 0.0,\n",
    "   'cholesterol': 0.0,\n",
    "   'sodium': 140.0,\n",
    "   'carbohydrates': 17.0,\n",
    "   'fiber': 1.01,\n",
    "   'sugars': 0.0,\n",
    "   'protein': 2.0,\n",
    "   'calcium': 0.0,\n",
    "   'iron': 0.4,\n",
    "   'potassium': 319.0,\n",
    "   'addedSugar': 0.0,\n",
    "   'calories': 140.0},\n",
    "  'category': 'Chips, Pretzels & Snacks'},\n",
    " {'description': 'TOMATO BASIL PASTA SAUCE',\n",
    "  'list_of_ingredients': ['TOMATO PUREE',\n",
    "   'TOMATOES',\n",
    "   'SUGAR',\n",
    "   'SOYBEAN OIL',\n",
    "   'SALT',\n",
    "   'DRIED ONIONS',\n",
    "   'DRIED GARLIC',\n",
    "   'SPICES',\n",
    "   'LEMON JUICE CONCENTRATE',\n",
    "   'ROMANO CHEESE'],\n",
    "  'raw_nutrients': {'fat': 2.0,\n",
    "   'sodium': 580.0,\n",
    "   'carbohydrates': 17.0,\n",
    "   'fiber': 2.94,\n",
    "   'sugars': 10.0,\n",
    "   'protein': 3.0,\n",
    "   'calcium': 29.4,\n",
    "   'iron': 0.998,\n",
    "   'potassium': 750.0,\n",
    "   'addedSugar': 2.05,\n",
    "   'calories': 89.6},\n",
    "  'category': 'Prepared Pasta & Pizza Sauces'}]\n",
    "```"
   ]
  },
  {
   "cell_type": "code",
   "execution_count": 12,
   "id": "3ab0862d",
   "metadata": {
    "nbgrader": {
     "grade": false,
     "locked": true,
     "solution": false
    },
    "tags": [
     "demo_inputs_ex2"
    ]
   },
   "outputs": [],
   "source": [
    "### define demo inputs\n",
    "keys_of_interest = {'description', 'ingredients', 'labelNutrients', 'brandedFoodCategory'}\n",
    "demo_lod_ex1 = [{k:v for k, v in d.items() if k in keys_of_interest} for d in food_lod[:2]]"
   ]
  },
  {
   "cell_type": "code",
   "execution_count": 13,
   "id": "12bddd17",
   "metadata": {
    "nbgrader": {
     "grade": false,
     "locked": true,
     "solution": false
    },
    "tags": [
     "demo_run_ex2"
    ]
   },
   "outputs": [
    {
     "data": {
      "text/plain": [
       "[{'description': 'KETTLE COOKED POTATO CHIPS, PINK HIMALAYAN SALT & RED WINE VINEGAR',\n",
       "  'list_of_ingredients': ['POTATOES',\n",
       "   'VEGETABLE OIL',\n",
       "   'MALTODEXTRIN',\n",
       "   'HIMALAYAN SALT',\n",
       "   'RED WINE VINEGAR',\n",
       "   'CITRIC ACID',\n",
       "   'SUGAR',\n",
       "   'WHITE DISTILLED VINEGAR',\n",
       "   'NATURAL FLAVOR'],\n",
       "  'raw_nutrients': {'fat': 7.0,\n",
       "   'saturatedFat': 0.501,\n",
       "   'transFat': 0.0,\n",
       "   'cholesterol': 0.0,\n",
       "   'sodium': 140.0,\n",
       "   'carbohydrates': 17.0,\n",
       "   'fiber': 1.01,\n",
       "   'sugars': 0.0,\n",
       "   'protein': 2.0,\n",
       "   'calcium': 0.0,\n",
       "   'iron': 0.4,\n",
       "   'potassium': 319.0,\n",
       "   'addedSugar': 0.0,\n",
       "   'calories': 140.0},\n",
       "  'category': 'Chips, Pretzels & Snacks'},\n",
       " {'description': 'TOMATO BASIL PASTA SAUCE',\n",
       "  'list_of_ingredients': ['TOMATO PUREE',\n",
       "   'TOMATOES',\n",
       "   'SUGAR',\n",
       "   'SOYBEAN OIL',\n",
       "   'SALT',\n",
       "   'DRIED ONIONS',\n",
       "   'DRIED GARLIC',\n",
       "   'SPICES',\n",
       "   'LEMON JUICE CONCENTRATE',\n",
       "   'ROMANO CHEESE'],\n",
       "  'raw_nutrients': {'fat': 2.0,\n",
       "   'sodium': 580.0,\n",
       "   'carbohydrates': 17.0,\n",
       "   'fiber': 2.94,\n",
       "   'sugars': 10.0,\n",
       "   'protein': 3.0,\n",
       "   'calcium': 29.4,\n",
       "   'iron': 0.998,\n",
       "   'potassium': 750.0,\n",
       "   'addedSugar': 2.05,\n",
       "   'calories': 89.6},\n",
       "  'category': 'Prepared Pasta & Pizza Sauces'}]"
      ]
     },
     "execution_count": 13,
     "metadata": {},
     "output_type": "execute_result"
    }
   ],
   "source": [
    "### call demo funtion\n",
    "extract_basic_data(demo_lod_ex1)"
   ]
  },
  {
   "cell_type": "markdown",
   "id": "0648029a",
   "metadata": {
    "nbgrader": {
     "grade": false,
     "locked": true,
     "solution": false
    }
   },
   "source": [
    "<!-- Test Cell Boilerplate -->\n",
    "The cell below will test your solution for Exercise 2. The testing variables will be available for debugging under the following names in a dictionary format.\n",
    "- `input_vars` - Input variables for your solution. \n",
    "- `original_input_vars` - Copy of input variables from prior to running your solution. These _should_ be the same as `input_vars` - otherwise the inputs were modified by your solution.\n",
    "- `returned_output_vars` - Outputs returned by your solution.\n",
    "- `true_output_vars` - The expected output. This _should_ \"match\" `returned_output_vars` based on the question requirements - otherwise, your solution is not returning the correct output. "
   ]
  },
  {
   "cell_type": "code",
   "execution_count": 14,
   "id": "1cd6f1ab",
   "metadata": {
    "nbgrader": {
     "grade": true,
     "grade_id": "ex2_test",
     "locked": true,
     "points": "4",
     "solution": false
    }
   },
   "outputs": [
    {
     "name": "stdout",
     "output_type": "stream",
     "text": [
      "initializing tester_fw.tester_6040\n",
      "initializing tester_fw.tester_6040\n",
      "Passed! Please submit.\n"
     ]
    }
   ],
   "source": [
    "### test_cell_ex2\n",
    "\n",
    "### BEGIN HIDDEN TESTS\n",
    "# import dill\n",
    "# import hashlib\n",
    "# with open('resource/asnlib/public/hash_check.pkl', 'rb') as f:\n",
    "#     hash_check = dill.load(f)\n",
    "# # for fname in ['testers.py', 'tester_6040.py', 'test_utils.py']:\n",
    "# #     hash_check(f'tester_fw/{fname}', f'resource/asnlib/public/{fname}')\n",
    "# del hash_check\n",
    "# del dill\n",
    "# del hashlib\n",
    "### END HIDDEN TESTS\n",
    "\n",
    "from tester_fw.testers import Tester_ex2\n",
    "tester = Tester_ex2()\n",
    "for _ in range(20):\n",
    "    try:\n",
    "        tester.run_test(extract_basic_data)\n",
    "        (input_vars, original_input_vars, returned_output_vars, true_output_vars) = tester.get_test_vars()\n",
    "    except:\n",
    "        (input_vars, original_input_vars, returned_output_vars, true_output_vars) = tester.get_test_vars()\n",
    "        raise\n",
    "\n",
    "### BEGIN HIDDEN TESTS\n",
    "tester = Tester_ex2(key=b'4gbCuwhFj77ZLr-nS9-6_7OKthpg6HpqGWs1vnuKkgk=', path='resource/asnlib/publicdata/encrypted/')\n",
    "for _ in range(20):\n",
    "    try:\n",
    "        tester.run_test(extract_basic_data)\n",
    "        (input_vars, original_input_vars, returned_output_vars, true_output_vars) = tester.get_test_vars()\n",
    "    except:\n",
    "        (input_vars, original_input_vars, returned_output_vars, true_output_vars) = tester.get_test_vars()\n",
    "        raise\n",
    "### END HIDDEN TESTS\n",
    "print('Passed! Please submit.')"
   ]
  },
  {
   "cell_type": "code",
   "execution_count": 15,
   "id": "c21c2f6e",
   "metadata": {},
   "outputs": [],
   "source": [
    "# # This is a template that you can use all the time!!\n",
    "# # Create a cell below every exam test cell and copy the below code into it\n",
    "# # ONLY UNCOMMENT IF YOU NEED IT!!!!\n",
    "# # BEWARE THAT THIS COULD GENERATE VOLUMINOUS OUTPUT!!!!!\n",
    "# print('input_vars')\n",
    "# print(input_vars)\n",
    "# print('original_input_vars')\n",
    "# print(original_input_vars)\n",
    "# print('returned_output_vars')\n",
    "# print(returned_output_vars)\n",
    "# print('true_output_vars')\n",
    "# print(true_output_vars)"
   ]
  },
  {
   "cell_type": "markdown",
   "id": "15cbd8bd",
   "metadata": {
    "nbgrader": {
     "grade": false,
     "locked": true,
     "solution": false
    }
   },
   "source": [
    "Even if your solution was incorrect or you skipped this exercise, run this cell to see the expected output of a call to `extract_basic_data(food_lod)`."
   ]
  },
  {
   "cell_type": "code",
   "execution_count": 16,
   "id": "fae83af2",
   "metadata": {
    "nbgrader": {
     "grade": false,
     "locked": true,
     "solution": false
    }
   },
   "outputs": [],
   "source": [
    "### Loading results\n",
    "import pickle\n",
    "import os\n",
    "path = './resource/asnlib/publicdata/ex2.pkl'\n",
    "if not os.path.exists(path):\n",
    "    with open(path, 'wb') as file:\n",
    "        pickle.dump(extract_basic_data(food_lod), file)\n",
    "with open(path, 'rb') as file:\n",
    "    basic_data = pickle.load(file)"
   ]
  },
  {
   "cell_type": "markdown",
   "id": "f68044b2",
   "metadata": {
    "nbgrader": {
     "grade": false,
     "locked": true,
     "solution": false
    }
   },
   "source": [
    "## Exercise 3 (1 Points): \n",
    "Our analysis requires that the foods have at least 3 listed ingredients and have amounts for nutrients: 'fat', 'protein', 'sodium', and 'carbohydrates'."
   ]
  },
  {
   "cell_type": "markdown",
   "id": "4b9d79e1",
   "metadata": {
    "nbgrader": {
     "grade": false,
     "locked": true,
     "solution": false
    },
    "tags": [
     "exercise_text_ex3"
    ]
   },
   "source": [
    "Given `data`, a `list` of `dicts`, define `filter_basic_data(data)` to filter out unwanted records.\n",
    "- This function should return a **new** list containing the same `dicts` as `data` with the following exceptions.\n",
    "- You can assume that each `dict` in `data` will have `'list_of_ingredients` and `'raw_nutrients'` as keys and that the respective values for those keys are of type `list` and `dict`.\n",
    "- Any `dict` with fewer than 3 items in it's `'list_of_ingredients'` should not be included.\n",
    "- Any `dict`, `d`, where `d['raw_nutrients']` does not have **all** of `{'fat', 'protein', 'sodium', 'carbohydrates'}` as keys should not be included. "
   ]
  },
  {
   "cell_type": "code",
   "execution_count": 17,
   "id": "ac23cf5f",
   "metadata": {
    "tags": [
     "exercise_solution_ex3"
    ]
   },
   "outputs": [],
   "source": [
    "### Define filter_basic_data\n",
    "def filter_basic_data(data):\n",
    "#     ### BEGIN SOLUTION\n",
    "#     def keep_record(record):\n",
    "#         return len(record['list_of_ingredients']) >= 3 \\\n",
    "#             and len({'fat', 'protein', 'carbohydrates', 'sodium'} & set(record['raw_nutrients'].keys())) == 4\n",
    "\n",
    "#     return [record for record in data if keep_record(record)]\n",
    "    \n",
    "#     This is a good solution*************\n",
    "    ret_list = []\n",
    "    for food in data:\n",
    "           \n",
    "        #does it have at least 3 ingredients?\n",
    "        if (len(food['list_of_ingredients']) >= 3):   \n",
    "               \n",
    "            #does it have at least these 4 nutrients?\n",
    "            if food['raw_nutrients'].keys() >= {'fat', 'protein', 'sodium', 'carbohydrates'}:  \n",
    "                \n",
    "                ret_list.append(food)\n",
    "    \n",
    "    return ret_list\n",
    "#     ******************\n",
    "\n",
    "\n",
    "#     This gives the wrong answer*************\n",
    "#     ret_list = []\n",
    "#     for food in data:\n",
    "           \n",
    "#         #does it have at least 3 ingredients?\n",
    "#         if (len(food['list_of_ingredients']) > 3):   #this part is wrong\n",
    "               \n",
    "#             #does it have at least these 4 nutrients?\n",
    "#             if food['raw_nutrients'].keys() >= {'fat', 'protein', 'sodium', 'carbohydrates'}:  \n",
    "                \n",
    "#                 ret_list.append(food)\n",
    "    \n",
    "#     return ret_list\n",
    "#     ******************\n",
    "\n",
    "    ### END SOLUTION\n",
    "\n",
    "    \n",
    "# already initialized demo inputs below\n",
    "### call demo funtion\n",
    "# filter_basic_data(demo_data_ex3)"
   ]
  },
  {
   "cell_type": "markdown",
   "id": "115e5ccc",
   "metadata": {
    "nbgrader": {
     "grade": false,
     "locked": true,
     "solution": false
    },
    "tags": [
     "demo_output_md_ex3"
    ]
   },
   "source": [
    "<!-- Expected demo output text block -->\n",
    "The demo cell below should display the following output:\n",
    "```\n",
    "[{'list_of_ingredients': [1, 2, 'this ok', 'milk'],\n",
    "  'raw_nutrients': {'fat': 22,\n",
    "   'protein': 'caterpillar',\n",
    "   'carbohydrates': 5,\n",
    "   'sodium': 100,\n",
    "   'awesome sauce': 'this one should be kept'}}]\n",
    "```"
   ]
  },
  {
   "cell_type": "code",
   "execution_count": 18,
   "id": "6fb13d3f",
   "metadata": {
    "nbgrader": {
     "grade": false,
     "locked": true,
     "solution": false
    },
    "tags": [
     "demo_inputs_ex3"
    ]
   },
   "outputs": [],
   "source": [
    "### define demo inputs\n",
    "demo_data_ex3 = [\n",
    "    {\n",
    "        'list_of_ingredients': [1, 2, 'this ok', 'milk'],\n",
    "        'raw_nutrients': {\n",
    "            'fat':22, \n",
    "            'protein': 'caterpillar', \n",
    "            'carbohydrates': 5, \n",
    "            'sodium': 100, \n",
    "            'awesome sauce': 'this one should be kept'}\n",
    "    },\n",
    "    {\n",
    "        'list_of_ingredients': ['catfish', 2, 'cse6040', 'bicycle'],\n",
    "        'raw_nutrients': {\n",
    "            'fat':12, \n",
    "            'carbohydrates': 35, \n",
    "            'sodium': 70, \n",
    "            'awesome sauce': 'this one should be rejected - no protein'\n",
    "        }\n",
    "    },\n",
    "    {\n",
    "        'list_of_ingredients': ['marble', 2.5],\n",
    "        'raw_nutrients': {\n",
    "            'fat':12, \n",
    "            'carbohydrates': 35, \n",
    "            'protein': 7, \n",
    "            'sodium': 70, \n",
    "            'awesome sauce': 'this one should be rejected too - not enough ingredients'\n",
    "        }\n",
    "    }\n",
    "]"
   ]
  },
  {
   "cell_type": "code",
   "execution_count": 19,
   "id": "b26fbff9",
   "metadata": {
    "nbgrader": {
     "grade": false,
     "locked": true,
     "solution": false
    },
    "tags": [
     "demo_run_ex3"
    ]
   },
   "outputs": [
    {
     "data": {
      "text/plain": [
       "[{'list_of_ingredients': [1, 2, 'this ok', 'milk'],\n",
       "  'raw_nutrients': {'fat': 22,\n",
       "   'protein': 'caterpillar',\n",
       "   'carbohydrates': 5,\n",
       "   'sodium': 100,\n",
       "   'awesome sauce': 'this one should be kept'}}]"
      ]
     },
     "execution_count": 19,
     "metadata": {},
     "output_type": "execute_result"
    }
   ],
   "source": [
    "### call demo funtion\n",
    "filter_basic_data(demo_data_ex3)"
   ]
  },
  {
   "cell_type": "markdown",
   "id": "46c3c595",
   "metadata": {
    "nbgrader": {
     "grade": false,
     "locked": true,
     "solution": false
    }
   },
   "source": [
    "<!-- Test Cell Boilerplate -->\n",
    "The cell below will test your solution for Exercise 3. The testing variables will be available for debugging under the following names in a dictionary format.\n",
    "- `input_vars` - Input variables for your solution. \n",
    "- `original_input_vars` - Copy of input variables from prior to running your solution. These _should_ be the same as `input_vars` - otherwise the inputs were modified by your solution.\n",
    "- `returned_output_vars` - Outputs returned by your solution.\n",
    "- `true_output_vars` - The expected output. This _should_ \"match\" `returned_output_vars` based on the question requirements - otherwise, your solution is not returning the correct output. "
   ]
  },
  {
   "cell_type": "code",
   "execution_count": 20,
   "id": "cb51247e",
   "metadata": {
    "nbgrader": {
     "grade": true,
     "grade_id": "ex3_test",
     "locked": true,
     "points": "1",
     "solution": false
    }
   },
   "outputs": [
    {
     "name": "stdout",
     "output_type": "stream",
     "text": [
      "initializing tester_fw.tester_6040\n",
      "initializing tester_fw.tester_6040\n",
      "Passed! Please submit.\n"
     ]
    }
   ],
   "source": [
    "### test_cell_ex3\n",
    "\n",
    "### BEGIN HIDDEN TESTS\n",
    "# import dill\n",
    "# import hashlib\n",
    "# with open('resource/asnlib/public/hash_check.pkl', 'rb') as f:\n",
    "#     hash_check = dill.load(f)\n",
    "# # for fname in ['testers.py', 'tester_6040.py', 'test_utils.py']:\n",
    "# #     hash_check(f'tester_fw/{fname}', f'resource/asnlib/public/{fname}')\n",
    "# del hash_check\n",
    "# del dill\n",
    "# del hashlib\n",
    "### END HIDDEN TESTS\n",
    "\n",
    "from tester_fw.testers import Tester_ex3\n",
    "tester = Tester_ex3()\n",
    "for _ in range(20):\n",
    "    try:\n",
    "        tester.run_test(filter_basic_data)\n",
    "        (input_vars, original_input_vars, returned_output_vars, true_output_vars) = tester.get_test_vars()\n",
    "    except:\n",
    "        (input_vars, original_input_vars, returned_output_vars, true_output_vars) = tester.get_test_vars()\n",
    "        raise\n",
    "\n",
    "### BEGIN HIDDEN TESTS\n",
    "tester = Tester_ex3(key=b'4gbCuwhFj77ZLr-nS9-6_7OKthpg6HpqGWs1vnuKkgk=', path='resource/asnlib/publicdata/encrypted/')\n",
    "for _ in range(20):\n",
    "    try:\n",
    "        tester.run_test(filter_basic_data)\n",
    "        (input_vars, original_input_vars, returned_output_vars, true_output_vars) = tester.get_test_vars()\n",
    "    except:\n",
    "        (input_vars, original_input_vars, returned_output_vars, true_output_vars) = tester.get_test_vars()\n",
    "        raise\n",
    "### END HIDDEN TESTS\n",
    "print('Passed! Please submit.')"
   ]
  },
  {
   "cell_type": "code",
   "execution_count": 21,
   "id": "31798370",
   "metadata": {},
   "outputs": [],
   "source": [
    "# # This is a template that you can use all the time!!\n",
    "# # Create a cell below every exam test cell and copy the below code into it\n",
    "# # ONLY UNCOMMENT IF YOU NEED IT!!!!\n",
    "# # BEWARE THAT THIS COULD GENERATE VOLUMINOUS OUTPUT!!!!!\n",
    "# print('input_vars')\n",
    "# print(input_vars)\n",
    "# print('original_input_vars')\n",
    "# print(original_input_vars)\n",
    "# print('returned_output_vars')\n",
    "# print(returned_output_vars)\n",
    "# print('true_output_vars')\n",
    "# print(true_output_vars)"
   ]
  },
  {
   "cell_type": "markdown",
   "id": "d0dfc61e",
   "metadata": {
    "nbgrader": {
     "grade": false,
     "locked": true,
     "solution": false
    }
   },
   "source": [
    "Even if your solution was incorrect or you skipped this exercise, run this cell to see the expected output of a call to `filter_basic_data(basic_data)`."
   ]
  },
  {
   "cell_type": "code",
   "execution_count": 22,
   "id": "32ce3da7",
   "metadata": {
    "nbgrader": {
     "grade": false,
     "locked": true,
     "solution": false
    }
   },
   "outputs": [],
   "source": [
    "### Loading results\n",
    "import pickle\n",
    "import os\n",
    "path = './resource/asnlib/publicdata/ex3.pkl'\n",
    "if not os.path.exists(path):\n",
    "    with open(path, 'wb') as file:\n",
    "        pickle.dump(filter_basic_data(basic_data), file)\n",
    "with open(path, 'rb') as file:\n",
    "    filtered_data = pickle.load(file)"
   ]
  },
  {
   "cell_type": "markdown",
   "id": "827a397e",
   "metadata": {
    "nbgrader": {
     "grade": false,
     "locked": true,
     "solution": false
    }
   },
   "source": [
    "## Exercise 4 (2 Points): \n",
    "We want to compute summary statistics on the nutrients present in each food. While you might be able to find formulas for these statistics and implement them yourselves - there is no need to reinvent the wheel. Feel free to use the `statistics` module, but you will have to `import` it yourself."
   ]
  },
  {
   "cell_type": "markdown",
   "id": "51f8c345",
   "metadata": {
    "nbgrader": {
     "grade": false,
     "locked": true,
     "solution": false
    },
    "tags": [
     "exercise_text_ex4"
    ]
   },
   "source": [
    "Given a `list` of `dict`s, `data` structured as `basic_data`, define `make_summary(data, key)` to generate a dictionary of summary statistics.\n",
    "- We will assume that each `dict` in `data` has a `'raw_nutrients'` key mapped to a dictionary which maps nutrients to amounts.\n",
    "- Extract the amount of the nutrient given by `key` for each `dict`, `d` in `data` - we will call these the observations. I.e. `data[0]['raw_nutrients'][key]` is one observation.\n",
    "- Note: each entry in `data` counts as an observation and for all `dict`s `d` in `data`, `d['raw_nutrients'][key]` is **not** guaranteed to exist. In such cases, we will interpret the observation as a 0.\n",
    "- Compute statistics on the observations. Store the results in a dictionary with the following mapping:\n",
    "  - `'mean'` - (`float`) mean of all observations\n",
    "  - `'median'` - (`float`) median of all observations\n",
    "  - `'stdev'` - (`float`) **population** standard deviation of all observations - check your stats notes and documentation to make sure you're computing this correctly\n",
    "  - `'min'` - (`float`) minimum\n",
    "  - `'max'` - (`float`) maximum\n",
    "  "
   ]
  },
  {
   "cell_type": "code",
   "execution_count": 23,
   "id": "0e063595",
   "metadata": {
    "tags": [
     "exercise_solution_ex4"
    ]
   },
   "outputs": [],
   "source": [
    "### Define make_summary\n",
    "def make_summary(data, key):\n",
    "    ### BEGIN SOLUTION\n",
    "    def stat_summary(nums):\n",
    "        from statistics import mean, median, pstdev\n",
    "        return {\n",
    "            'mean': float(mean(nums))\n",
    "            , 'median': float(median(nums))\n",
    "            , 'stdev': float(pstdev(nums))\n",
    "            , 'min': float(min(nums))\n",
    "            , 'max': float(max(nums))\n",
    "        }\n",
    "    nums = [record['raw_nutrients'].get(key, 0) for record in data]\n",
    "    return stat_summary(nums)\n",
    "    ### END SOLUTION"
   ]
  },
  {
   "cell_type": "markdown",
   "id": "8d4c24c6",
   "metadata": {
    "nbgrader": {
     "grade": false,
     "locked": true,
     "solution": false
    },
    "tags": [
     "demo_output_md_ex4"
    ]
   },
   "source": [
    "<!-- Expected demo output text block -->\n",
    "The demo cell below should display the following output:\n",
    "```\n",
    "key: foo\n",
    "{'mean': 18.714285714285715, 'median': 17.0, 'stdev': 12.75835060672349, 'min': 5.0, 'max': 48.0}\n",
    "\n",
    "key: bar\n",
    "{'mean': 23.571428571428573, 'median': 33.0, 'stdev': 14.907880397936646, 'min': 0.0, 'max': 33.0}\n",
    "\n",
    "key: baz\n",
    "{'mean': 100.0, 'median': 100.0, 'stdev': 0.0, 'min': 100.0, 'max': 100.0}\n",
    "```"
   ]
  },
  {
   "cell_type": "code",
   "execution_count": 24,
   "id": "eb0f6433",
   "metadata": {
    "nbgrader": {
     "grade": false,
     "locked": true,
     "solution": false
    },
    "tags": [
     "demo_inputs_ex4"
    ]
   },
   "outputs": [],
   "source": [
    "### define demo inputs\n",
    "demo_data_ex4 = [\n",
    "    {'raw_nutrients': {'foo': 12,   'bar': 33,  'baz': 100}},\n",
    "    {'raw_nutrients': {'foo': 48,   'bar': 33,  'baz': 100}},\n",
    "    {'raw_nutrients': {'foo': 17,   'bar': 33,  'baz': 100}},\n",
    "    {'raw_nutrients': {'foo': 5,                'baz': 100}},\n",
    "    {'raw_nutrients': {'foo': 18,   'bar': 33,  'baz': 100}},\n",
    "    {'raw_nutrients': {'foo': 12,   'bar': 33,  'baz': 100}},\n",
    "    {'raw_nutrients': {'foo': 19,               'baz': 100}},\n",
    "]\n",
    "demo_keys_ex4 = ['foo', 'bar', 'baz']"
   ]
  },
  {
   "cell_type": "code",
   "execution_count": 25,
   "id": "1b1de6e9",
   "metadata": {
    "nbgrader": {
     "grade": false,
     "locked": true,
     "solution": false
    },
    "tags": [
     "demo_run_ex4"
    ]
   },
   "outputs": [
    {
     "name": "stdout",
     "output_type": "stream",
     "text": [
      "key: foo\n",
      "{'mean': 18.714285714285715, 'median': 17.0, 'stdev': 12.75835060672349, 'min': 5.0, 'max': 48.0}\n",
      "\n",
      "key: bar\n",
      "{'mean': 23.571428571428573, 'median': 33.0, 'stdev': 14.907880397936646, 'min': 0.0, 'max': 33.0}\n",
      "\n",
      "key: baz\n",
      "{'mean': 100.0, 'median': 100.0, 'stdev': 0.0, 'min': 100.0, 'max': 100.0}\n",
      "\n"
     ]
    }
   ],
   "source": [
    "### call demo funtion\n",
    "for k in demo_keys_ex4:\n",
    "    print(f'key: {k}')\n",
    "    print(make_summary(demo_data_ex4, k))\n",
    "    print()"
   ]
  },
  {
   "cell_type": "markdown",
   "id": "52aea148",
   "metadata": {
    "nbgrader": {
     "grade": false,
     "locked": true,
     "solution": false
    }
   },
   "source": [
    "<!-- Test Cell Boilerplate -->\n",
    "The cell below will test your solution for Exercise 4. The testing variables will be available for debugging under the following names in a dictionary format.\n",
    "- `input_vars` - Input variables for your solution. \n",
    "- `original_input_vars` - Copy of input variables from prior to running your solution. These _should_ be the same as `input_vars` - otherwise the inputs were modified by your solution.\n",
    "- `returned_output_vars` - Outputs returned by your solution.\n",
    "- `true_output_vars` - The expected output. This _should_ \"match\" `returned_output_vars` based on the question requirements - otherwise, your solution is not returning the correct output. "
   ]
  },
  {
   "cell_type": "code",
   "execution_count": 26,
   "id": "3a99c1aa",
   "metadata": {
    "nbgrader": {
     "grade": true,
     "grade_id": "ex4_test",
     "locked": true,
     "points": "2",
     "solution": false
    }
   },
   "outputs": [
    {
     "name": "stdout",
     "output_type": "stream",
     "text": [
      "initializing tester_fw.tester_6040\n",
      "initializing tester_fw.tester_6040\n",
      "Passed! Please submit.\n"
     ]
    }
   ],
   "source": [
    "### test_cell_ex4\n",
    "\n",
    "### BEGIN HIDDEN TESTS\n",
    "# import dill\n",
    "# import hashlib\n",
    "# with open('resource/asnlib/public/hash_check.pkl', 'rb') as f:\n",
    "#     hash_check = dill.load(f)\n",
    "# # for fname in ['testers.py', 'tester_6040.py', 'test_utils.py']:\n",
    "# #     hash_check(f'tester_fw/{fname}', f'resource/asnlib/public/{fname}')\n",
    "# del hash_check\n",
    "# del dill\n",
    "# del hashlib\n",
    "### END HIDDEN TESTS\n",
    "\n",
    "from tester_fw.testers import Tester_ex4\n",
    "tester = Tester_ex4()\n",
    "for _ in range(20):\n",
    "    try:\n",
    "        tester.run_test(make_summary)\n",
    "        (input_vars, original_input_vars, returned_output_vars, true_output_vars) = tester.get_test_vars()\n",
    "    except:\n",
    "        (input_vars, original_input_vars, returned_output_vars, true_output_vars) = tester.get_test_vars()\n",
    "        raise\n",
    "\n",
    "### BEGIN HIDDEN TESTS\n",
    "tester = Tester_ex4(key=b'4gbCuwhFj77ZLr-nS9-6_7OKthpg6HpqGWs1vnuKkgk=', path='resource/asnlib/publicdata/encrypted/')\n",
    "for _ in range(20):\n",
    "    try:\n",
    "        tester.run_test(make_summary)\n",
    "        (input_vars, original_input_vars, returned_output_vars, true_output_vars) = tester.get_test_vars()\n",
    "    except:\n",
    "        (input_vars, original_input_vars, returned_output_vars, true_output_vars) = tester.get_test_vars()\n",
    "        raise\n",
    "### END HIDDEN TESTS\n",
    "print('Passed! Please submit.')"
   ]
  },
  {
   "cell_type": "markdown",
   "id": "667e2c2d",
   "metadata": {
    "nbgrader": {
     "grade": false,
     "locked": true,
     "solution": false
    }
   },
   "source": [
    "Even if your solution was incorrect or you skipped this exercise, run this cell. You would get the same result as `summary_dict` if you were to run the code below with a correct implementation of `make_summary`.\n",
    "\n",
    "```\n",
    "keys = ('fat', 'protein', 'carbohydrates', 'sodium')\n",
    "{key:make_summary(filtered_data, key) for key in keys}\n",
    "\n",
    "```"
   ]
  },
  {
   "cell_type": "code",
   "execution_count": 27,
   "id": "c55565af",
   "metadata": {
    "nbgrader": {
     "grade": false,
     "locked": true,
     "solution": false
    }
   },
   "outputs": [],
   "source": [
    "### Loading results\n",
    "import pickle\n",
    "import os\n",
    "path = './resource/asnlib/publicdata/ex4.pkl'\n",
    "if not os.path.exists(path):\n",
    "    with open(path, 'wb') as file:\n",
    "        pickle.dump({key:make_summary(filtered_data, key) for key in ('fat', 'protein', 'carbohydrates', 'sodium')}, file)\n",
    "with open(path, 'rb') as file:\n",
    "    summary_dict = pickle.load(file)"
   ]
  },
  {
   "cell_type": "markdown",
   "id": "5c7a8e0f",
   "metadata": {
    "nbgrader": {
     "grade": false,
     "locked": true,
     "solution": false
    }
   },
   "source": [
    "## Exercise 5 (3 Points): \n",
    "We are interested in whether the amount of one particular nutrient in a food has any relationship with the amounts of other nutrients in the food. For this, we will compare the observations of multiple nutrients and compute the correlation between them."
   ]
  },
  {
   "cell_type": "markdown",
   "id": "a7685cd8",
   "metadata": {
    "nbgrader": {
     "grade": false,
     "locked": true,
     "solution": false
    },
    "tags": [
     "exercise_text_ex5"
    ]
   },
   "source": [
    "Given `data`, a `list` of `dicts`, and `keys`, a `list` of `strings`, complete the function `create_cor_dict(data, key)` to find the correlation between each nutrient listed and all of the other nutrients listed. Return the result as a `dict` which maps each key to a dictionary mapping the other keys to the correlation between the parent key and the child key. For example, if `keys=['fat', 'protein', 'carbohydrates']` then the result would look something like this:\n",
    "\n",
    "```\n",
    "{'fat': {                                       # parent key is 'fat'\n",
    "    'protein': 0.1854653535334078,              # parent key is 'fat' --> correlation between 'fat' and 'protein\n",
    "    'carbohydrates': -0.6720362432582452        # correlation between 'fat' and 'carbohydrates'\n",
    "    },\n",
    " 'protein': {                                   # 'protein'\n",
    "     'fat': 0.1854653535334078,                 # 'protein' correlation w/ 'fat'\n",
    "     'carbohydrates': -0.3814834566078096       # 'protein' correlation w/ 'carbohydrates'\n",
    "     },\n",
    " 'carbohydrates': {                             # 'carbohydrates'\n",
    "     'fat': -0.6720362432582452,                # 'carbohydrates' correlation w/ 'fat'\n",
    "     'protein': -0.3814834566078096}            # 'carbohydrates' correlation w/ 'protein'\n",
    "     }\n",
    "```\n",
    "\n",
    "You can assume that if `d` is a `dict` in `data`, then `d` will have `'raw_nutrients'` as a key which is mapped to a `dict` which itself maps strings to integers. For example:\n",
    "```\n",
    "[\n",
    "    {'raw_nutrients': {'foo': 17,   'bar': 33,  'baz': 150}},\n",
    "    {'raw_nutrients': {'foo': 5,                'baz': 35}},\n",
    "    {'raw_nutrients': {'foo': 18,   'bar': 33,  'baz': 200}}\n",
    "]\n",
    "```\n",
    "\n",
    "Each dictionary in `data` should be treated as a single observation. You can compute the correlation with the following formulas.\n",
    "- $n$ is the number of observations.\n",
    "- $\\bar{x}, \\bar{y}$ - Means nutrient $x$, and nutrient $y$. \n",
    "- $\\bar{xy} = \\frac{1}{n}\\sum_{i=0}^{n-1}x_iy_i$\n",
    "- $\\sigma_x =$ **population** standard deviaiton - check your stats notes and documentation to make sure that you are calculating this correctly\n",
    "- Correlation: $$c=\\frac{\\bar{xy} - (\\bar{x})(\\bar{y})}{\\sigma_x \\sigma_y}$$\n",
    "\n"
   ]
  },
  {
   "cell_type": "code",
   "execution_count": 28,
   "id": "eca6bc32",
   "metadata": {
    "tags": [
     "exercise_solution_ex5"
    ]
   },
   "outputs": [],
   "source": [
    "### Define make_correlations\n",
    "def make_correlations(data, keys):\n",
    "    ### BEGIN SOLUTION\n",
    "    def correlation(x, y):\n",
    "        from statistics import mean, pstdev\n",
    "        xy = [x_*y_ for x_, y_ in zip(x, y)]\n",
    "        return (mean(xy) - mean(x)*mean(y)) / pstdev(x) / pstdev(y)\n",
    "\n",
    "    def key2list(key):\n",
    "        return [record['raw_nutrients'].get(key, 0.0) for record in data]\n",
    "        \n",
    "    return {k1:{k2: correlation(key2list(k1), key2list(k2)) for k2 in keys if k2 != k1} for k1 in keys}\n",
    "    ### END SOLUTION"
   ]
  },
  {
   "cell_type": "markdown",
   "id": "cab62807",
   "metadata": {
    "nbgrader": {
     "grade": false,
     "locked": true,
     "solution": false
    },
    "tags": [
     "demo_output_md_ex5"
    ]
   },
   "source": [
    "<!-- Expected demo output text block -->\n",
    "The demo cell below should display the following output:\n",
    "```\n",
    "{'foo': {'bar': 0.3328398218980465, 'baz': 0.983194888209125},\n",
    " 'bar': {'foo': 0.33283982189804656, 'baz': 0.31688680340974},\n",
    " 'baz': {'foo': 0.983194888209125, 'bar': 0.31688680340974007}}\n",
    "```"
   ]
  },
  {
   "cell_type": "code",
   "execution_count": 29,
   "id": "221a89a7",
   "metadata": {
    "nbgrader": {
     "grade": false,
     "locked": true,
     "solution": false
    },
    "tags": [
     "demo_inputs_ex5"
    ]
   },
   "outputs": [],
   "source": [
    "### define demo inputs\n",
    "### use naming convention demo_varname_ex_* to name demo variables\n",
    "demo_data_ex5 = [\n",
    "    {'raw_nutrients': {'foo': 12,   'bar': 33,  'baz': 100}},\n",
    "    {'raw_nutrients': {'foo': 48,   'bar': 33,  'baz': 400}},\n",
    "    {'raw_nutrients': {'foo': 17,   'bar': 33,  'baz': 150}},\n",
    "    {'raw_nutrients': {'foo': 5,                'baz': 35}},\n",
    "    {'raw_nutrients': {'foo': 18,   'bar': 33,  'baz': 200}},\n",
    "    {'raw_nutrients': {'foo': 12,   'bar': 33,  'baz': 105}},\n",
    "    {'raw_nutrients': {'foo': 19,               'baz': 195}},\n",
    "]\n",
    "demo_keys_ex5 = ['foo', 'bar', 'baz']"
   ]
  },
  {
   "cell_type": "code",
   "execution_count": 30,
   "id": "0fe879ea",
   "metadata": {
    "nbgrader": {
     "grade": false,
     "locked": true,
     "solution": false
    },
    "tags": [
     "demo_run_ex5"
    ]
   },
   "outputs": [
    {
     "data": {
      "text/plain": [
       "{'foo': {'bar': 0.3328398218980465, 'baz': 0.983194888209125},\n",
       " 'bar': {'foo': 0.33283982189804656, 'baz': 0.31688680340974},\n",
       " 'baz': {'foo': 0.983194888209125, 'bar': 0.31688680340974007}}"
      ]
     },
     "execution_count": 30,
     "metadata": {},
     "output_type": "execute_result"
    }
   ],
   "source": [
    "### call demo funtion\n",
    "make_correlations(demo_data_ex5, demo_keys_ex5)"
   ]
  },
  {
   "cell_type": "markdown",
   "id": "22c11b24",
   "metadata": {
    "nbgrader": {
     "grade": false,
     "locked": true,
     "solution": false
    }
   },
   "source": [
    "<!-- Test Cell Boilerplate -->\n",
    "The cell below will test your solution for Exercise 5. The testing variables will be available for debugging under the following names in a dictionary format.\n",
    "- `input_vars` - Input variables for your solution. \n",
    "- `original_input_vars` - Copy of input variables from prior to running your solution. These _should_ be the same as `input_vars` - otherwise the inputs were modified by your solution.\n",
    "- `returned_output_vars` - Outputs returned by your solution.\n",
    "- `true_output_vars` - The expected output. This _should_ \"match\" `returned_output_vars` based on the question requirements - otherwise, your solution is not returning the correct output. "
   ]
  },
  {
   "cell_type": "code",
   "execution_count": 31,
   "id": "a19e2474",
   "metadata": {
    "nbgrader": {
     "grade": true,
     "grade_id": "ex5_test",
     "locked": true,
     "points": "3",
     "solution": false
    }
   },
   "outputs": [
    {
     "name": "stdout",
     "output_type": "stream",
     "text": [
      "initializing tester_fw.tester_6040\n",
      "initializing tester_fw.tester_6040\n",
      "Passed! Please submit.\n"
     ]
    }
   ],
   "source": [
    "### test_cell_ex5\n",
    "\n",
    "### BEGIN HIDDEN TESTS\n",
    "# import dill\n",
    "# import hashlib\n",
    "# with open('resource/asnlib/public/hash_check.pkl', 'rb') as f:\n",
    "#     hash_check = dill.load(f)\n",
    "# # for fname in ['testers.py', 'tester_6040.py', 'test_utils.py']:\n",
    "# #     hash_check(f'tester_fw/{fname}', f'resource/asnlib/public/{fname}')\n",
    "# del hash_check\n",
    "# del dill\n",
    "# del hashlib\n",
    "### END HIDDEN TESTS\n",
    "\n",
    "from tester_fw.testers import Tester_ex5\n",
    "tester = Tester_ex5()\n",
    "for _ in range(20):\n",
    "    try:\n",
    "        tester.run_test(make_correlations)\n",
    "        (input_vars, original_input_vars, returned_output_vars, true_output_vars) = tester.get_test_vars()\n",
    "    except:\n",
    "        (input_vars, original_input_vars, returned_output_vars, true_output_vars) = tester.get_test_vars()\n",
    "        raise\n",
    "\n",
    "### BEGIN HIDDEN TESTS\n",
    "tester = Tester_ex5(key=b'4gbCuwhFj77ZLr-nS9-6_7OKthpg6HpqGWs1vnuKkgk=', path='resource/asnlib/publicdata/encrypted/')\n",
    "for _ in range(20):\n",
    "    try:\n",
    "        tester.run_test(make_correlations)\n",
    "        (input_vars, original_input_vars, returned_output_vars, true_output_vars) = tester.get_test_vars()\n",
    "    except:\n",
    "        (input_vars, original_input_vars, returned_output_vars, true_output_vars) = tester.get_test_vars()\n",
    "        raise\n",
    "### END HIDDEN TESTS\n",
    "print('Passed! Please submit.')"
   ]
  },
  {
   "cell_type": "markdown",
   "id": "e391dac1",
   "metadata": {
    "nbgrader": {
     "grade": false,
     "locked": true,
     "solution": false
    }
   },
   "source": [
    "Even if your solution was incorrect or you skipped this exercise, run this cell. You would get the same result as `corr_dict` if you were to run the code below with a correct implementation of `make_correlations`.\n",
    "\n",
    "```\n",
    "make_correlations(filtered_data, ('fat', 'carbohydrates', 'protein'))\n",
    "\n",
    "```"
   ]
  },
  {
   "cell_type": "code",
   "execution_count": 32,
   "id": "24ece0f4",
   "metadata": {
    "nbgrader": {
     "grade": false,
     "locked": true,
     "solution": false
    }
   },
   "outputs": [
    {
     "data": {
      "text/plain": [
       "{'fat': {'carbohydrates': 0.42945936057100154, 'protein': 0.5300501948181573},\n",
       " 'carbohydrates': {'fat': 0.42945936057100154, 'protein': 0.4185373785303934},\n",
       " 'protein': {'fat': 0.5300501948181573, 'carbohydrates': 0.4185373785303934}}"
      ]
     },
     "execution_count": 32,
     "metadata": {},
     "output_type": "execute_result"
    }
   ],
   "source": [
    "### Loading results\n",
    "import pickle\n",
    "import os\n",
    "path = './resource/asnlib/publicdata/ex5.pkl'\n",
    "if not os.path.exists(path):\n",
    "    with open(path, 'wb') as file:\n",
    "        pickle.dump(make_correlations(filtered_data, ('fat', 'carbohydrates', 'protein')), file)\n",
    "with open(path, 'rb') as file:\n",
    "    corr_dict = pickle.load(file)\n",
    "corr_dict"
   ]
  },
  {
   "cell_type": "markdown",
   "id": "c16fc60c",
   "metadata": {
    "nbgrader": {
     "grade": false,
     "locked": true,
     "solution": false
    }
   },
   "source": [
    "## Exercise 6 (2 Points): \n",
    "We are interested in the most common ingredients listed for foods. Instead of gathering this information on the whole data set, we want it on a category level. A good strategy for drilling down could be useful for generating category level summaries and correlations as well. The function below will transform our `basic_data` structure (a list of dictionaries) into a dictionary mapping each category to a list of dictionaries which have that category. Each of these lists will have the same structure as `basic_data`. You may (or may not) find it useful in completing exercise 6."
   ]
  },
  {
   "cell_type": "code",
   "execution_count": 33,
   "id": "bdc5696e",
   "metadata": {
    "nbgrader": {
     "grade": false,
     "locked": true,
     "solution": false
    }
   },
   "outputs": [],
   "source": [
    "def group_by_category(data):\n",
    "    from collections import defaultdict\n",
    "    g = defaultdict(list)\n",
    "    for d in data:\n",
    "        c = d['category']\n",
    "        g[c].append(d)\n",
    "    return dict(g)"
   ]
  },
  {
   "cell_type": "markdown",
   "id": "ced1e88b",
   "metadata": {
    "nbgrader": {
     "grade": false,
     "locked": true,
     "solution": false
    },
    "tags": [
     "exercise_text_ex6"
    ]
   },
   "source": [
    "Complete the function `top_ingredients` to accomplish the following:\n",
    "- Parameters \n",
    "  - `data` - `list` of `dict`s. You can assume that `d['list_of_ingredients']` is a `list` of strings, and `d['category']` is a string - for any `d` in `data`. Each of these `dict`s contains data on a single food.\n",
    "  - `n` - `int` - number of ingredients to list\n",
    "- We will say that an ingredient's \"strength\" within a category is given by the following: \n",
    "$$x_i = \\text{number of times ingredient x has been listed in position i}$$\n",
    "$$\\text{Strength}_x = 3x_0 + 2x_1 + x_2$$\n",
    "- For each unique category (value of `d['category']`) compute the strength of all ingredients present in that category.\n",
    "- Return a dictionary mapping each category to a list containing the top `n` ingredients in that category, ranked by strength in descending order. Only include ingredients which have strength greater than 0.\n",
    "- In the instance of ties (two ingredients having the same strength in a category), break the tie by ranking ingredients alphabetically. \n",
    "- If there are fewer than `n` ingredients - all of the ingredients should be included. There should always be `n` or fewer ingredients listed for each category."
   ]
  },
  {
   "cell_type": "code",
   "execution_count": 34,
   "id": "ab9a3cb8",
   "metadata": {
    "tags": [
     "exercise_solution_ex6"
    ]
   },
   "outputs": [],
   "source": [
    "### Define top_ingredients\n",
    "def top_ingredients(data, n=3):\n",
    "    ### BEGIN SOLUTION\n",
    "    from collections import defaultdict\n",
    "    strength = defaultdict(lambda: defaultdict(int))\n",
    "    for item in data:\n",
    "        for rank, ingredient in enumerate(item['list_of_ingredients'][:min([3, len(item['list_of_ingredients'])])]):\n",
    "            strength[item['category']][ingredient] += 3-rank\n",
    "    return {k:sorted(v, key=lambda x: (-v.get(x), x))[:min([len(v), n])] for k, v in strength.items()}\n",
    "    ### END SOLUTION\n"
   ]
  },
  {
   "cell_type": "markdown",
   "id": "a610951f",
   "metadata": {
    "nbgrader": {
     "grade": false,
     "locked": true,
     "solution": false
    },
    "tags": [
     "demo_output_md_ex6"
    ]
   },
   "source": [
    "<!-- Expected demo output text block -->\n",
    "The demo cell below should display the following output:\n",
    "```\n",
    "{'cat0': ['bar', 'foo', 'baz', 'tux'],\n",
    " 'cat1': ['bax', 'rak', 'foo'],\n",
    " 'cat2': ['rah']}\n",
    "```"
   ]
  },
  {
   "cell_type": "code",
   "execution_count": 35,
   "id": "4180d3c2",
   "metadata": {
    "nbgrader": {
     "grade": false,
     "locked": true,
     "solution": false
    },
    "tags": [
     "demo_inputs_ex6"
    ]
   },
   "outputs": [],
   "source": [
    "### define demo inputs\n",
    "demo_data_ex6 = [\n",
    "    {'category': 'cat0', 'list_of_ingredients':['foo', 'bar', 'baz', 'tux', 'rak']},\n",
    "    {'category': 'cat0', 'list_of_ingredients':['bar', 'foo', 'baz', 'tux', 'baz']},\n",
    "    {'category': 'cat0', 'list_of_ingredients':['bar', 'foo', 'tux']},\n",
    "    {'category': 'cat0', 'list_of_ingredients':['bar', 'baz', 'tux',]},\n",
    "\n",
    "    {'category': 'cat1', 'list_of_ingredients':['rak', 'foo', 'bax']},\n",
    "    {'category': 'cat1', 'list_of_ingredients':['rak', 'bax']},\n",
    "    {'category': 'cat1', 'list_of_ingredients':['bax', 'rak', 'foo']},\n",
    "    {'category': 'cat1', 'list_of_ingredients':['bax', 'foo', 'rak']},\n",
    "    \n",
    "    {'category': 'cat2', 'list_of_ingredients':['rah']},\n",
    "    {'category': 'cat2', 'list_of_ingredients':['rah']},\n",
    "    {'category': 'cat2', 'list_of_ingredients':['rah']},\n",
    "]"
   ]
  },
  {
   "cell_type": "code",
   "execution_count": 36,
   "id": "056e0a63",
   "metadata": {
    "nbgrader": {
     "grade": false,
     "locked": true,
     "solution": false
    },
    "tags": [
     "demo_run_ex6"
    ]
   },
   "outputs": [
    {
     "data": {
      "text/plain": [
       "{'cat0': ['bar', 'foo', 'baz', 'tux'],\n",
       " 'cat1': ['bax', 'rak', 'foo'],\n",
       " 'cat2': ['rah']}"
      ]
     },
     "execution_count": 36,
     "metadata": {},
     "output_type": "execute_result"
    }
   ],
   "source": [
    "### call demo funtion\n",
    "top_ingredients(demo_data_ex6, n=5)"
   ]
  },
  {
   "cell_type": "markdown",
   "id": "6c2f372d",
   "metadata": {
    "nbgrader": {
     "grade": false,
     "locked": true,
     "solution": false
    }
   },
   "source": [
    "<!-- Test Cell Boilerplate -->\n",
    "The cell below will test your solution for Exercise 6. The testing variables will be available for debugging under the following names in a dictionary format.\n",
    "- `input_vars` - Input variables for your solution. \n",
    "- `original_input_vars` - Copy of input variables from prior to running your solution. These _should_ be the same as `input_vars` - otherwise the inputs were modified by your solution.\n",
    "- `returned_output_vars` - Outputs returned by your solution.\n",
    "- `true_output_vars` - The expected output. This _should_ \"match\" `returned_output_vars` based on the question requirements - otherwise, your solution is not returning the correct output. "
   ]
  },
  {
   "cell_type": "code",
   "execution_count": 37,
   "id": "7c295d9d",
   "metadata": {
    "nbgrader": {
     "grade": true,
     "grade_id": "ex6_test",
     "locked": true,
     "points": "2",
     "solution": false
    }
   },
   "outputs": [
    {
     "name": "stdout",
     "output_type": "stream",
     "text": [
      "initializing tester_fw.tester_6040\n",
      "initializing tester_fw.tester_6040\n",
      "Passed! Please submit.\n"
     ]
    }
   ],
   "source": [
    "### test_cell_ex6\n",
    "\n",
    "### BEGIN HIDDEN TESTS\n",
    "# import dill\n",
    "# import hashlib\n",
    "# with open('resource/asnlib/public/hash_check.pkl', 'rb') as f:\n",
    "#     hash_check = dill.load(f)\n",
    "# # for fname in ['testers.py', 'tester_6040.py', 'test_utils.py']:\n",
    "# #     hash_check(f'tester_fw/{fname}', f'resource/asnlib/public/{fname}')\n",
    "# del hash_check\n",
    "# del dill\n",
    "# del hashlib\n",
    "### END HIDDEN TESTS\n",
    "\n",
    "from tester_fw.testers import Tester_ex6\n",
    "tester = Tester_ex6()\n",
    "for _ in range(20):\n",
    "    try:\n",
    "        tester.run_test(top_ingredients)\n",
    "        (input_vars, original_input_vars, returned_output_vars, true_output_vars) = tester.get_test_vars()\n",
    "    except:\n",
    "        (input_vars, original_input_vars, returned_output_vars, true_output_vars) = tester.get_test_vars()\n",
    "        raise\n",
    "\n",
    "### BEGIN HIDDEN TESTS\n",
    "tester = Tester_ex6(key=b'4gbCuwhFj77ZLr-nS9-6_7OKthpg6HpqGWs1vnuKkgk=', path='resource/asnlib/publicdata/encrypted/')\n",
    "for _ in range(20):\n",
    "    try:\n",
    "        tester.run_test(top_ingredients)\n",
    "        (input_vars, original_input_vars, returned_output_vars, true_output_vars) = tester.get_test_vars()\n",
    "    except:\n",
    "        (input_vars, original_input_vars, returned_output_vars, true_output_vars) = tester.get_test_vars()\n",
    "        raise\n",
    "### END HIDDEN TESTS\n",
    "print('Passed! Please submit.')"
   ]
  },
  {
   "cell_type": "markdown",
   "id": "12e62a1e",
   "metadata": {
    "nbgrader": {
     "grade": false,
     "locked": true,
     "solution": false
    }
   },
   "source": [
    "Even if your solution was incorrect or you skipped this exercise, run this cell. You would get the same result as `leaders` if you were to run the code below with a correct implementation of `top_ingredients`.\n",
    "\n",
    "```\n",
    "top_ingredients(filtered_data, 3)\n",
    "\n",
    "```"
   ]
  },
  {
   "cell_type": "code",
   "execution_count": 38,
   "id": "7e2b7ac0",
   "metadata": {
    "nbgrader": {
     "grade": false,
     "locked": true,
     "solution": false
    }
   },
   "outputs": [],
   "source": [
    "### Loading results\n",
    "import pickle\n",
    "import os\n",
    "path = './resource/asnlib/publicdata/ex6.pkl'\n",
    "if not os.path.exists(path):\n",
    "    with open(path, 'wb') as file:\n",
    "        pickle.dump(top_ingredients(filtered_data, 3), file)\n",
    "with open(path, 'rb') as file:\n",
    "    leaders = pickle.load(file)"
   ]
  },
  {
   "cell_type": "markdown",
   "id": "281c4bca",
   "metadata": {},
   "source": [
    "**Fin**. This is the end of the exam. If you haven't already, submit your work."
   ]
  }
 ],
 "metadata": {
  "kernelspec": {
   "display_name": "Python 3 (ipykernel)",
   "language": "python",
   "name": "python3"
  },
  "language_info": {
   "codemirror_mode": {
    "name": "ipython",
    "version": 3
   },
   "file_extension": ".py",
   "mimetype": "text/x-python",
   "name": "python",
   "nbconvert_exporter": "python",
   "pygments_lexer": "ipython3",
   "version": "3.9.12"
  }
 },
 "nbformat": 4,
 "nbformat_minor": 5
}
